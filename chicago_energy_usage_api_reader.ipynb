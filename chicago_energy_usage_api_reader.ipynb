{
 "cells": [
  {
   "cell_type": "code",
   "execution_count": 2,
   "metadata": {},
   "outputs": [],
   "source": [
    "import pandas as pd\n",
    "import requests as rq\n",
    "import matplotlib as mp"
   ]
  },
  {
   "cell_type": "code",
   "execution_count": null,
   "metadata": {},
   "outputs": [],
   "source": [
    "# Making a GET request \n",
    "r = rq.get('https://data.cityofchicago.org/resource/2tz4-s6ek.json')\n",
    " \n",
    "# check status code for response received \n",
    "# success code - 200 \n",
    "print(r)\n",
    "\n",
    "data = r.json() \n",
    "# print content of request \n",
    "print(data) "
   ]
  },
  {
   "cell_type": "code",
   "execution_count": null,
   "metadata": {},
   "outputs": [],
   "source": [
    "regions = len(data) \n",
    "data_list = []\n",
    "for area in range(regions):\n",
    "    area_data = data[area]\n",
    "    temporary_dic = {}\n",
    "    for item,quantidade in area_data.items():\n",
    "        if (item == 'community_area_name' or item == 'building_type' or item == 'zero_kwh_accounts' or item == 'total_population' or item == 'total_kwh' or item == 'kwh_mean_2010' or item == 'kwh_minimum_2010' or item== 'kwh_maximum_2010'):\n",
    "            temporary_dic[item] = quantidade\n",
    "    data_list.append(temporary_dic)\n",
    "data.clear()\n",
    "data = data_list   \n",
    "print(data) "
   ]
  },
  {
   "cell_type": "code",
   "execution_count": null,
   "metadata": {},
   "outputs": [],
   "source": [
    "df = pd.DataFrame(data)\n",
    "print(df)\n",
    "df.to_json('saida.json', orient='records')\n",
    " "
   ]
  }
 ],
 "metadata": {
  "kernelspec": {
   "display_name": "Python 3",
   "language": "python",
   "name": "python3"
  },
  "language_info": {
   "codemirror_mode": {
    "name": "ipython",
    "version": 3
   },
   "file_extension": ".py",
   "mimetype": "text/x-python",
   "name": "python",
   "nbconvert_exporter": "python",
   "pygments_lexer": "ipython3",
   "version": "3.11.9"
  }
 },
 "nbformat": 4,
 "nbformat_minor": 2
}
